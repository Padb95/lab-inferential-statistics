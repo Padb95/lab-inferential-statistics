{
 "cells": [
  {
   "cell_type": "code",
   "execution_count": 4,
   "id": "9878a6ee-27ba-4b01-b751-10fa58914c69",
   "metadata": {},
   "outputs": [
    {
     "data": {
      "text/plain": [
       "0.9999990411290555"
      ]
     },
     "execution_count": 4,
     "metadata": {},
     "output_type": "execute_result"
    }
   ],
   "source": [
    "from scipy.stats import ttest_1samp, ttest_rel, ttest_ind\n",
    "from scipy.stats import f_oneway\n",
    "from scipy.stats import norm\n",
    "\n",
    "from statistics import math\n",
    "\n",
    "sample_mean = 130.1\n",
    "pop_mean = 120\n",
    "pop_std = 21.21\n",
    "n = 100\n",
    "\n",
    "# Calculate the z_score\n",
    "z_score = (sample_mean - pop_mean)/(pop_std/math.sqrt(n)) # differences in mean / standard error\n",
    "z_score\n",
    "\n",
    "# Calculate the p value\n",
    "p_value = norm.cdf(z_score)\n",
    "p_value\n",
    "\n",
    "\n",
    "# Like P value is bigger than 95%, the group it is significantly different from the regular population!"
   ]
  },
  {
   "cell_type": "code",
   "execution_count": null,
   "id": "68fb8d04-8baf-4329-9b74-0cae99da0e8a",
   "metadata": {},
   "outputs": [],
   "source": []
  },
  {
   "cell_type": "code",
   "execution_count": null,
   "id": "cd19b46a-9303-40e0-875c-6bc0cdce8993",
   "metadata": {},
   "outputs": [],
   "source": []
  },
  {
   "cell_type": "code",
   "execution_count": null,
   "id": "b3465478-9db0-4ea1-a229-7b859a69c74e",
   "metadata": {},
   "outputs": [],
   "source": []
  },
  {
   "cell_type": "code",
   "execution_count": null,
   "id": "11d72d8d-0791-404e-b9ee-9b0e0280ac29",
   "metadata": {},
   "outputs": [],
   "source": []
  },
  {
   "cell_type": "code",
   "execution_count": null,
   "id": "cd58433b-e64a-459a-98d8-e85bcd728474",
   "metadata": {},
   "outputs": [],
   "source": []
  },
  {
   "cell_type": "code",
   "execution_count": null,
   "id": "4cbc1fe4-1fc1-4922-acdd-94bf982416e1",
   "metadata": {},
   "outputs": [],
   "source": []
  },
  {
   "cell_type": "code",
   "execution_count": null,
   "id": "3185ed8e-57ce-490d-b03d-2e1acb7acef3",
   "metadata": {},
   "outputs": [],
   "source": []
  },
  {
   "cell_type": "code",
   "execution_count": null,
   "id": "c4e2dcf4-fef2-4555-81c8-34a245b98088",
   "metadata": {},
   "outputs": [],
   "source": []
  },
  {
   "cell_type": "code",
   "execution_count": null,
   "id": "177def71-cd25-480b-9344-4903044ab46f",
   "metadata": {},
   "outputs": [],
   "source": []
  }
 ],
 "metadata": {
  "kernelspec": {
   "display_name": "Python 3 (ipykernel)",
   "language": "python",
   "name": "python3"
  },
  "language_info": {
   "codemirror_mode": {
    "name": "ipython",
    "version": 3
   },
   "file_extension": ".py",
   "mimetype": "text/x-python",
   "name": "python",
   "nbconvert_exporter": "python",
   "pygments_lexer": "ipython3",
   "version": "3.11.7"
  }
 },
 "nbformat": 4,
 "nbformat_minor": 5
}
